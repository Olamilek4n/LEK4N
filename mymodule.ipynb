{
  "nbformat": 4,
  "nbformat_minor": 0,
  "metadata": {
    "colab": {
      "name": "mymodule.ipynb",
      "provenance": [],
      "collapsed_sections": [],
      "authorship_tag": "ABX9TyNaMABN2F22qr1rvWG7d35H",
      "include_colab_link": true
    },
    "kernelspec": {
      "name": "python3",
      "display_name": "Python 3"
    },
    "language_info": {
      "name": "python"
    }
  },
  "cells": [
    {
      "cell_type": "markdown",
      "metadata": {
        "id": "view-in-github",
        "colab_type": "text"
      },
      "source": [
        "<a href=\"https://colab.research.google.com/github/Olamilek4n/LEK4N/blob/main/mymodule.ipynb\" target=\"_parent\"><img src=\"https://colab.research.google.com/assets/colab-badge.svg\" alt=\"Open In Colab\"/></a>"
      ]
    },
    {
      "cell_type": "code",
      "execution_count": null,
      "metadata": {
        "colab": {
          "base_uri": "https://localhost:8080/"
        },
        "id": "cqlOdkIQSotc",
        "outputId": "f290c49a-259b-4c3c-f742-ea08e1d3fd09"
      },
      "outputs": [
        {
          "output_type": "stream",
          "name": "stdout",
          "text": [
            "The Initial Array is: [5, 1, 9, 7]\n",
            "This array is unsorted, it needs to be sorted\n",
            "The sorted array is: [1, 5, 7, 9]\n",
            "The following numbers are the missing elements: [2, 3, 4, 6, 8]\n",
            "The Complete array with replaced missing elements [1, 2, 3, 4, 5, 6, 7, 8, 9]\n",
            "The reversed array [9, 8, 7, 6, 5, 4, 3, 2, 1]\n",
            "The second highest number of the array is: 8\n",
            "The sum of all positive number in the complete array is: 45\n",
            "There are no negative numbers in the complete array\n"
          ]
        }
      ],
      "source": [
        "arr = [5, 1, 9, 7]\n",
        "\n",
        "#Display initial list\n",
        "print(\"The Initial Array is:\", arr)\n",
        "\n",
        "#All array operations in a class\n",
        "class MyArray:\n",
        "\n",
        "  def check_sort(self):\n",
        "  #Check if the list is sorted or not\n",
        "    global flag #this variable is reusable outside the function\n",
        "    flag = 0\n",
        "    i = 1\n",
        "    while i < len(arr):\n",
        "      if (arr[i] < arr[i - 1]):\n",
        "        flag = 1\n",
        "      i+=1\n",
        "    if (not flag):\n",
        "      print(\"This array is sorted.\")\n",
        "\n",
        "    else:\n",
        "     print(\"This array is unsorted, it needs to be sorted\")\n",
        "\n",
        "  def sorting_array(self, arr):\n",
        "  #sort unsorted list by swapping positions\n",
        "    for i in range (len(arr)):\n",
        "      for j in range(i+1, len(arr)):\n",
        "        if arr[i] > arr[j]:\n",
        "          arr[i], arr[j] = arr[j], arr[i]\n",
        "    return arr\n",
        "\n",
        "  def not_sorted(self):\n",
        "    if flag:\n",
        "    #This only displays this if the list is unsorted\n",
        "      self.sorting_array(arr) #Calling existing function for sorting array\n",
        "      print(\"The sorted array is:\", arr) #Display result\n",
        "\n",
        "  def missing_element(self):\n",
        "    global missing_numbers #this variable is reusable outside the function\n",
        "    #Check for missing numbers in the list\n",
        "    missing_numbers = [item for item in range(arr[0], arr[-1]+1) \n",
        "                    if item not in arr]\n",
        "    print(\"The following numbers are the missing elements:\", missing_numbers)\n",
        "    return arr\n",
        "\n",
        "  def concatenate_arrays(self):\n",
        "    global m #this variable is reusable outside the function\n",
        "    #Merging missing numbers to existing list\n",
        "    m = arr + missing_numbers #List Concatenation\n",
        "    self.sorting_array(m) #Calling existing function \n",
        "                   #for sorting list with a new parameter\n",
        "    print(\"The Complete array with replaced missing elements\", m) #Display result\n",
        "    return m\n",
        "\n",
        "  def rvsal(self, m):\n",
        "  #Reversing elements of the list by swapping the positions\n",
        "    revs = m[::-1] #Swap positions of the elements \n",
        "    print(\"The reversed array\", revs) #Display resulted array\n",
        "\n",
        "  \n",
        "  def nth_highest(self):\n",
        "  #Checking the list for the second-highest number\n",
        "    self.sorting_array(m) #Sorting the list with an existing funtion and argument\n",
        "    Second_highest = m[-2] #Assigning the second to the last element after sorting\n",
        "    print(\"The second highest number of the array is:\", Second_highest) \n",
        "                                                       #Displays result\n",
        "  def sum_defpositive(self):\n",
        "  #Sum of all positive numbers in the list\n",
        "    pos = sum(x for x in m if x > 0) #Sum numbers that are greater than zero\n",
        "    print(\"The sum of all positive number in the complete array is:\", pos) \n",
        "                                                        #Displays result\n",
        "\n",
        "  def sum_negative(self):\n",
        "  #Sum of all Negative numbers in the list\n",
        "    neg = sum(x for x in m if x < 0) #Sum numbers that are less than zero\n",
        "    if neg is 0:\n",
        "      print(\"There are no negative numbers in the complete array\") #To display \n",
        "                                            #if there are no negative numbers\n",
        "    else:\n",
        "      print(\"The sum of all negative number in the complete array is:\", neg) \n",
        "                                                            #Displays result\n",
        "\n",
        "#Creating an object for the class Allarrays\n",
        "ca = MyArray()\n",
        "\n",
        "#Calling the functions through the class\n",
        "ca.check_sort()\n",
        "ca.sorting_array(arr)\n",
        "ca.not_sorted()\n",
        "ca.missing_element()\n",
        "ca.concatenate_arrays()\n",
        "ca.rvsal(m)\n",
        "ca.nth_highest()\n",
        "ca.sum_positive()\n",
        "ca.sum_negative()"
      ]
    }
  ]
}