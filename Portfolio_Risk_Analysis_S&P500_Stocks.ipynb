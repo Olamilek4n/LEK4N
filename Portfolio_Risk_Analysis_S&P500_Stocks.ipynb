{
  "nbformat": 4,
  "nbformat_minor": 0,
  "metadata": {
    "colab": {
      "provenance": [],
      "authorship_tag": "ABX9TyNMEtmFa/GGSV//H5KI2GvC",
      "include_colab_link": true
    },
    "kernelspec": {
      "name": "python3",
      "display_name": "Python 3"
    },
    "language_info": {
      "name": "python"
    }
  },
  "cells": [
    {
      "cell_type": "markdown",
      "metadata": {
        "id": "view-in-github",
        "colab_type": "text"
      },
      "source": [
        "<a href=\"https://colab.research.google.com/github/Olamilek4n/LEK4N/blob/main/Portfolio_Risk_Analysis_S%26P500_Stocks.ipynb\" target=\"_parent\"><img src=\"https://colab.research.google.com/assets/colab-badge.svg\" alt=\"Open In Colab\"/></a>"
      ]
    },
    {
      "cell_type": "markdown",
      "source": [
        "**Building a portfolio using MPT (Markowitz's Modern Portfolio Theory)**\n",
        "\n",
        "**Assets: Technology Stocks in the S&P 500**\n",
        "\n",
        "**Selected Stocks: Microsoft, Apple, and Oracle**\n",
        "\n",
        "**TimeFrame: 365 Days from Current Date**"
      ],
      "metadata": {
        "id": "7kP0N3sDWcR_"
      }
    },
    {
      "cell_type": "code",
      "source": [
        "# Importing Required Libraries\n",
        "import pandas as pd\n",
        "import numpy as np\n",
        "import matplotlib.pyplot as plt\n",
        "import pandas_datareader.data as pdr\n",
        "import datetime as dt\n",
        "import yfinance as yft\n",
        "from scipy.optimize import minimize\n",
        "import plotly.graph_objects as go"
      ],
      "metadata": {
        "id": "lexSIt54T5Wu"
      },
      "execution_count": null,
      "outputs": []
    },
    {
      "cell_type": "code",
      "source": [
        "# Portfolio Performance Using the WT\n",
        "def PortfolioPerformance(weights, MeanReturns, CovMatrix):\n",
        "    Returns = np.sum(MeanReturns * weights) * 252  # 252 No of Trading days\n",
        "    Std = np.sqrt(np.dot(weights.T, np.dot(CovMatrix, weights))) * np.sqrt(252)\n",
        "    return Returns, Std"
      ],
      "metadata": {
        "id": "4GtLGuxuT9yA"
      },
      "execution_count": null,
      "outputs": []
    },
    {
      "cell_type": "code",
      "source": [
        "# Using sharpeRatio to Minimize scalar function with Sequential Least Squares Programming Algorithm (SLSQP)\n",
        "def NegativesharpeRatio(weights, MeanReturns, CovMatrix, RiskFreeRate=0):\n",
        "    PReturns, PStd = PortfolioPerformance(weights, MeanReturns, CovMatrix)\n",
        "    return -((PReturns - RiskFreeRate) / PStd)"
      ],
      "metadata": {
        "id": "OKISDeDJUBVF"
      },
      "execution_count": null,
      "outputs": []
    },
    {
      "cell_type": "code",
      "source": [
        "# Minimize the Negative sharpeRatio by altering the weights of the portfolio\n",
        "def MaxsharpeRatio(MeanReturns, CovMatrix, RiskFreeRate=0, ConstrainSet=(0, 1)):\n",
        "    NumAssets = len(MeanReturns)\n",
        "    args = (MeanReturns, CovMatrix, RiskFreeRate)\n",
        "    Constraints = ({'type': 'eq', 'fun': lambda x: np.sum(x) - 1})\n",
        "    bound = ConstrainSet\n",
        "    bounds = tuple(bound for asset in range(NumAssets))\n",
        "    result = minimize(NegativesharpeRatio, NumAssets * [1. / NumAssets], args=args,\n",
        "                      method='SLSQP', bounds=bounds, constraints=Constraints)\n",
        "    return result"
      ],
      "metadata": {
        "id": "RJlLeBMRUEXw"
      },
      "execution_count": null,
      "outputs": []
    },
    {
      "cell_type": "code",
      "source": [
        "# Minimize the Portfolio Variance by altering the weights of the portfolio\n",
        "def MinimizeVariance(MeanReturns, CovMatrix, ConstrainSet=(0, 1)):\n",
        "    NumAssets = len(MeanReturns)\n",
        "    args = (MeanReturns, CovMatrix)\n",
        "    Constraints = ({'type': 'eq', 'fun': lambda x: np.sum(x) - 1})\n",
        "    bound = ConstrainSet\n",
        "    bounds = tuple(bound for asset in range(NumAssets))\n",
        "    result = minimize(PortfolioVariance, NumAssets * [1. / NumAssets], args=args,\n",
        "                      method='SLSQP', bounds=bounds, constraints=Constraints)\n",
        "    return result"
      ],
      "metadata": {
        "id": "1NdcQd4WUH0F"
      },
      "execution_count": null,
      "outputs": []
    },
    {
      "cell_type": "code",
      "source": [
        "# Efficient Frontier\n",
        "def EfficientOpt(MeanReturns, CovMatrix, ReturnTarget, ConstrainSet=(0, 1)):\n",
        "   # For each return target, optimize portfolio for min var\n",
        "   NumAssets = len(MeanReturns)\n",
        "   args = (MeanReturns, CovMatrix)\n",
        "\n",
        "   Constraints = ({'type': 'eq', 'fun': lambda x: PortfolioReturn(x, MeanReturns, CovMatrix) - ReturnTarget},\n",
        "                  {'type': 'eq', 'fun': lambda x: np.sum(x) - 1})\n",
        "   bound = ConstrainSet\n",
        "   bounds = tuple(bound for asset in range(NumAssets))\n",
        "   EffOpt = minimize(PortfolioVariance, NumAssets * [1. / NumAssets], args=args,\n",
        "                     method='SLSQP', bounds=bounds, constraints=Constraints)\n",
        "\n",
        "   return EffOpt"
      ],
      "metadata": {
        "id": "StIlO2FyUK7l"
      },
      "execution_count": null,
      "outputs": []
    },
    {
      "cell_type": "code",
      "source": [
        "# Portfolio Variance\n",
        "def PortfolioVariance(weights, MeanReturns, CovMatrix):\n",
        "    return PortfolioPerformance(weights, MeanReturns, CovMatrix)[1]\n",
        "\n",
        "# Portfolio Return\n",
        "def PortfolioReturn(weights, MeanReturns, CovMatrix):\n",
        "    return PortfolioPerformance(weights, MeanReturns, CovMatrix)[0]"
      ],
      "metadata": {
        "id": "Hpo6YQcuUOV7"
      },
      "execution_count": null,
      "outputs": []
    },
    {
      "cell_type": "code",
      "source": [
        "def CalculateResults(MeanReturns, CovMatrix, RiskFreeRate=0, ConstrainSet=(0, 1)):\n",
        "    \"\"\"\n",
        "    Calculate key portfolio optimization results including Maximum Sharpe Ratio and Minimum Volatility Portfolio.\n",
        "\n",
        "    Parameters:\n",
        "    - MeanReturns (pd.Series): Mean returns of individual assets.\n",
        "    - CovMatrix (pd.DataFrame): Covariance matrix of asset returns.\n",
        "    - RiskFreeRate (float, optional): Risk-free rate used for Sharpe Ratio calculations. Default is 0.\n",
        "    - ConstrainSet (tuple, optional): Constraint set for asset weights optimization. Default is (0, 1).\n",
        "\n",
        "    Returns:\n",
        "    - max_sharpe_ratio_returns (float): Annualized return of the Maximum Sharpe Ratio portfolio.\n",
        "    - max_sharpe_ratio_std (float): Annualized standard deviation of the Maximum Sharpe Ratio portfolio.\n",
        "    - max_sharpe_ratio_allocation (pd.DataFrame): Asset allocation of the Maximum Sharpe Ratio portfolio.\n",
        "    - MinVol_returns (float): Annualized return of the Minimum Volatility portfolio.\n",
        "    - MinVol_std (float): Annualized standard deviation of the Minimum Volatility portfolio.\n",
        "    - MinVol_allocation (pd.DataFrame): Asset allocation of the Minimum Volatility portfolio.\n",
        "    - EfficientList (list): List of portfolio standard deviations for the Efficient Frontier.\n",
        "    - TargetReturns (numpy.ndarray): Array of target annualized returns for the Efficient Frontier.\n",
        "    \"\"\"\n",
        "\n",
        "    # Calculate Maximum Sharpe Ratio Portfolio\n",
        "    max_sharpe_ratio_portfolio = MaxsharpeRatio(MeanReturns, CovMatrix)\n",
        "    max_sharpe_ratio_returns, max_sharpe_ratio_std = PortfolioPerformance(max_sharpe_ratio_portfolio.x, MeanReturns, CovMatrix)\n",
        "    max_sharpe_ratio_allocation = pd.DataFrame(max_sharpe_ratio_portfolio.x, index=MeanReturns.index, columns=['allocation'])\n",
        "    max_sharpe_ratio_allocation.allocation = [round(i * 100, 0) for i in max_sharpe_ratio_allocation.allocation]\n",
        "\n",
        "    # Calculate Minimum Volatility Portfolio\n",
        "    MinVol_portfolio = MinimizeVariance(MeanReturns, CovMatrix)\n",
        "    MinVol_returns, MinVol_std = PortfolioPerformance(MinVol_portfolio.x, MeanReturns, CovMatrix)\n",
        "    MinVol_allocation = pd.DataFrame(MinVol_portfolio.x, index=MeanReturns.index, columns=['allocation'])\n",
        "    MinVol_allocation.allocation = [round(i * 100, 0) for i in MinVol_allocation.allocation]\n",
        "\n",
        "    # Generate target returns for the Efficient Frontier\n",
        "    TargetReturns = np.linspace(MinVol_returns, max_sharpe_ratio_returns, 20)\n",
        "\n",
        "    # Calculate portfolio standard deviations for the Efficient Frontier\n",
        "    EfficientList = []\n",
        "    for target in TargetReturns:\n",
        "        EfficientList.append(EfficientOpt(MeanReturns, CovMatrix, target)['fun'])\n",
        "\n",
        "    # Format results to percentages and return them\n",
        "    max_sharpe_ratio_returns, max_sharpe_ratio_std = round(max_sharpe_ratio_returns * 100, 2), round(max_sharpe_ratio_std * 100, 2)\n",
        "    MinVol_returns, MinVol_std = round(MinVol_returns * 100, 2), round(MinVol_std * 100, 2)\n",
        "\n",
        "    return max_sharpe_ratio_returns, max_sharpe_ratio_std, max_sharpe_ratio_allocation, MinVol_returns, MinVol_std, MinVol_allocation, EfficientList, TargetReturns\n",
        "\n",
        "print(CalculateResults(MeanReturns, CovMatrix))"
      ],
      "metadata": {
        "colab": {
          "base_uri": "https://localhost:8080/"
        },
        "id": "LMyA8EOPUyhu",
        "outputId": "fa7576ec-636a-494d-bdaf-d23311c20e46"
      },
      "execution_count": null,
      "outputs": [
        {
          "output_type": "stream",
          "name": "stdout",
          "text": [
            "(55.72, 26.26,            allocation\n",
            "Microsoft         0.0\n",
            "Apple             0.0\n",
            "Oracle          100.0, 42.71, 23.38,            allocation\n",
            "Microsoft        11.0\n",
            "Apple            34.0\n",
            "Oracle           55.0, [0.2338196323833489, 0.23390346388743014, 0.23415395149687387, 0.23457056133699314, 0.235152410497691, 0.2358982762577235, 0.23680660881471985, 0.23787554697695124, 0.23910293674999802, 0.24048635196300602, 0.24202311712066368, 0.2437103312095117, 0.24554489296997872, 0.24752352610073788, 0.2496428041055743, 0.2518991788041155, 0.25428900018561207, 0.2568143513441275, 0.2595668054886868, 0.26257275074181874], array([0.42714003, 0.43398576, 0.44083149, 0.44767722, 0.45452295,\n",
            "       0.46136868, 0.46821441, 0.47506014, 0.48190587, 0.4887516 ,\n",
            "       0.49559733, 0.50244306, 0.50928879, 0.51613452, 0.52298025,\n",
            "       0.52982598, 0.53667171, 0.54351744, 0.55036317, 0.5572089 ]))\n"
          ]
        }
      ]
    },
    {
      "cell_type": "code",
      "source": [
        "def EfGraph(MeanReturns, CovMatrix, RiskFreeRate=0, ConstrainSet=(0, 1)):\n",
        "    # Return graph showing the Minimum Vol, Maximum SR, and EF\n",
        "    max_sharpe_ratio_returns, max_sharpe_ratio_std, max_sharpe_ratio_allocation, MinVol_returns, MinVol_std, MinVol_allocation, EfficientList, TargetReturns = CalculateResults(MeanReturns, CovMatrix, RiskFreeRate, ConstrainSet)\n",
        "\n",
        "    # MaxSR\n",
        "    MaxsharpeRatio = go.Scatter(\n",
        "        name='Maximum Sharpe Ratio',\n",
        "        mode='markers',\n",
        "        x=[max_sharpe_ratio_std],\n",
        "        y=[max_sharpe_ratio_returns],\n",
        "        marker=dict(color='red', size=14, line=dict(width=3, color='black'))\n",
        "    )\n",
        "\n",
        "    # MinVol\n",
        "    MinVol = go.Scatter(\n",
        "        name='Minimum Volatility',\n",
        "        mode='markers',\n",
        "        x=[MinVol_std],\n",
        "        y=[MinVol_returns],\n",
        "        marker=dict(color='green', size=14, line=dict(width=3, color='black'))\n",
        "    )\n",
        "\n",
        "    # Efficient Frontier\n",
        "    EffCurve = go.Scatter(\n",
        "        name='Efficient Frontier',\n",
        "        mode='lines',\n",
        "        x=[round(EfStd * 100 * 2) for EfStd in EfficientList],\n",
        "        y=[round(target * 100, 2) for target in TargetReturns],\n",
        "        line=dict(color='black', width=4, dash='dashdot')\n",
        "    )\n",
        "\n",
        "    data = [MaxsharpeRatio, MinVol, EffCurve]\n",
        "\n",
        "    layout = go.Layout(\n",
        "    title='Portfolio Optimization with Markowitz Modern Portfolio Theory',\n",
        "    yaxis=dict(title='Annualized Return (%)'),\n",
        "    xaxis=dict(title='Annualized Volatility (%)'),\n",
        "    showlegend=True,\n",
        "    legend=dict(\n",
        "        x=0.75, y=0, traceorder='normal',\n",
        "        bgcolor='#E2E2E2',\n",
        "        bordercolor='black',\n",
        "        borderwidth=2,\n",
        "        font=dict(\n",
        "            size=14\n",
        "        )\n",
        "    )\n",
        ")\n",
        "\n",
        "    fig = go.Figure(data=data, layout=layout)\n",
        "    return fig.show()"
      ],
      "metadata": {
        "id": "hV658u4xU8B8"
      },
      "execution_count": null,
      "outputs": []
    },
    {
      "cell_type": "code",
      "source": [
        "# Define the start and end dates for data retrieval\n",
        "EndDate = dt.datetime.now()  # Current Date\n",
        "StartDate = EndDate - dt.timedelta(days=365)\n",
        "\n",
        "# Downloading the stock data for selected Technology Stocks in the S&P 500 (Microsoft, Nvidia, Apple, and Oracle)\n",
        "Microsoft = yft.download('MSFT', start=StartDate, end=EndDate)\n",
        "Apple = yft.download('AAPL', start=StartDate, end=EndDate)\n",
        "Oracle = yft.download('ORCL', start=StartDate, end=EndDate)\n",
        "\n",
        "# Combine the closing prices of stocks into a single DataFrame\n",
        "StocksData = pd.concat([Microsoft['Close'], Apple['Close'], Oracle['Close']], axis=1)\n",
        "StocksData.columns = ['Microsoft', 'Apple', 'Oracle']\n",
        "\n",
        "# Returns as percentage change for the stock data\n",
        "Returns = StocksData.pct_change()\n",
        "\n",
        "# Mean Returns\n",
        "MeanReturns = Returns.mean()\n",
        "\n",
        "# Covariance Matrix\n",
        "CovMatrix = Returns.cov()\n",
        "\n",
        "# Setting weights per Stock -- 30%, 30%, 30%, 40%\n",
        "weights = np.array([0.3, 0.3, 0.4])\n",
        "\n",
        "Returns, Std = PortfolioPerformance(weights, MeanReturns, CovMatrix)\n",
        "\n",
        "print(round(Returns * 100, 2), round(Std * 100, 2))"
      ],
      "metadata": {
        "colab": {
          "base_uri": "https://localhost:8080/"
        },
        "id": "63_Qr1ZaVSpg",
        "outputId": "01af9f67-fa12-4d6d-ebd2-0becd85f5395"
      },
      "execution_count": null,
      "outputs": [
        {
          "output_type": "stream",
          "name": "stdout",
          "text": [
            "[*********************100%%**********************]  1 of 1 completed\n",
            "[*********************100%%**********************]  1 of 1 completed\n",
            "[*********************100%%**********************]  1 of 1 completed\n",
            "39.51 23.87\n"
          ]
        }
      ]
    },
    {
      "cell_type": "code",
      "source": [
        "# Using the EfGraph to Visualize our data\n",
        "EfGraph(MeanReturns, CovMatrix, RiskFreeRate=0.02)"
      ],
      "metadata": {
        "colab": {
          "base_uri": "https://localhost:8080/",
          "height": 542
        },
        "id": "Ic81jITDVr6F",
        "outputId": "77a10897-5a32-4f3c-8c43-9c4dc0036b21"
      },
      "execution_count": null,
      "outputs": [
        {
          "output_type": "display_data",
          "data": {
            "text/html": [
              "<html>\n",
              "<head><meta charset=\"utf-8\" /></head>\n",
              "<body>\n",
              "    <div>            <script src=\"https://cdnjs.cloudflare.com/ajax/libs/mathjax/2.7.5/MathJax.js?config=TeX-AMS-MML_SVG\"></script><script type=\"text/javascript\">if (window.MathJax && window.MathJax.Hub && window.MathJax.Hub.Config) {window.MathJax.Hub.Config({SVG: {font: \"STIX-Web\"}});}</script>                <script type=\"text/javascript\">window.PlotlyConfig = {MathJaxConfig: 'local'};</script>\n",
              "        <script charset=\"utf-8\" src=\"https://cdn.plot.ly/plotly-2.24.1.min.js\"></script>                <div id=\"641849be-6591-40cb-b453-f2afb21767ad\" class=\"plotly-graph-div\" style=\"height:525px; width:100%;\"></div>            <script type=\"text/javascript\">                                    window.PLOTLYENV=window.PLOTLYENV || {};                                    if (document.getElementById(\"641849be-6591-40cb-b453-f2afb21767ad\")) {                    Plotly.newPlot(                        \"641849be-6591-40cb-b453-f2afb21767ad\",                        [{\"marker\":{\"color\":\"red\",\"line\":{\"color\":\"black\",\"width\":3},\"size\":14},\"mode\":\"markers\",\"name\":\"Maximum Sharpe Ratio\",\"x\":[26.26],\"y\":[55.72],\"type\":\"scatter\"},{\"marker\":{\"color\":\"green\",\"line\":{\"color\":\"black\",\"width\":3},\"size\":14},\"mode\":\"markers\",\"name\":\"Minimum Volatility\",\"x\":[23.38],\"y\":[42.71],\"type\":\"scatter\"},{\"line\":{\"color\":\"black\",\"dash\":\"dashdot\",\"width\":4},\"mode\":\"lines\",\"name\":\"Efficient Frontier\",\"x\":[47,47,47,47,47,47,47,48,48,48,48,49,49,50,50,50,51,51,52,53],\"y\":[42.71,43.4,44.08,44.77,45.45,46.14,46.82,47.51,48.19,48.88,49.56,50.24,50.93,51.61,52.3,52.98,53.67,54.35,55.04,55.72],\"type\":\"scatter\"}],                        {\"legend\":{\"bgcolor\":\"#E2E2E2\",\"bordercolor\":\"black\",\"borderwidth\":2,\"font\":{\"size\":14},\"traceorder\":\"normal\",\"x\":0.75,\"y\":0},\"showlegend\":true,\"title\":{\"text\":\"Portfolio Optimization with Markowitz Modern Portfolio Theory\"},\"xaxis\":{\"title\":{\"text\":\"Annualized Volatility (%)\"}},\"yaxis\":{\"title\":{\"text\":\"Annualized Return (%)\"}},\"template\":{\"data\":{\"histogram2dcontour\":[{\"type\":\"histogram2dcontour\",\"colorbar\":{\"outlinewidth\":0,\"ticks\":\"\"},\"colorscale\":[[0.0,\"#0d0887\"],[0.1111111111111111,\"#46039f\"],[0.2222222222222222,\"#7201a8\"],[0.3333333333333333,\"#9c179e\"],[0.4444444444444444,\"#bd3786\"],[0.5555555555555556,\"#d8576b\"],[0.6666666666666666,\"#ed7953\"],[0.7777777777777778,\"#fb9f3a\"],[0.8888888888888888,\"#fdca26\"],[1.0,\"#f0f921\"]]}],\"choropleth\":[{\"type\":\"choropleth\",\"colorbar\":{\"outlinewidth\":0,\"ticks\":\"\"}}],\"histogram2d\":[{\"type\":\"histogram2d\",\"colorbar\":{\"outlinewidth\":0,\"ticks\":\"\"},\"colorscale\":[[0.0,\"#0d0887\"],[0.1111111111111111,\"#46039f\"],[0.2222222222222222,\"#7201a8\"],[0.3333333333333333,\"#9c179e\"],[0.4444444444444444,\"#bd3786\"],[0.5555555555555556,\"#d8576b\"],[0.6666666666666666,\"#ed7953\"],[0.7777777777777778,\"#fb9f3a\"],[0.8888888888888888,\"#fdca26\"],[1.0,\"#f0f921\"]]}],\"heatmap\":[{\"type\":\"heatmap\",\"colorbar\":{\"outlinewidth\":0,\"ticks\":\"\"},\"colorscale\":[[0.0,\"#0d0887\"],[0.1111111111111111,\"#46039f\"],[0.2222222222222222,\"#7201a8\"],[0.3333333333333333,\"#9c179e\"],[0.4444444444444444,\"#bd3786\"],[0.5555555555555556,\"#d8576b\"],[0.6666666666666666,\"#ed7953\"],[0.7777777777777778,\"#fb9f3a\"],[0.8888888888888888,\"#fdca26\"],[1.0,\"#f0f921\"]]}],\"heatmapgl\":[{\"type\":\"heatmapgl\",\"colorbar\":{\"outlinewidth\":0,\"ticks\":\"\"},\"colorscale\":[[0.0,\"#0d0887\"],[0.1111111111111111,\"#46039f\"],[0.2222222222222222,\"#7201a8\"],[0.3333333333333333,\"#9c179e\"],[0.4444444444444444,\"#bd3786\"],[0.5555555555555556,\"#d8576b\"],[0.6666666666666666,\"#ed7953\"],[0.7777777777777778,\"#fb9f3a\"],[0.8888888888888888,\"#fdca26\"],[1.0,\"#f0f921\"]]}],\"contourcarpet\":[{\"type\":\"contourcarpet\",\"colorbar\":{\"outlinewidth\":0,\"ticks\":\"\"}}],\"contour\":[{\"type\":\"contour\",\"colorbar\":{\"outlinewidth\":0,\"ticks\":\"\"},\"colorscale\":[[0.0,\"#0d0887\"],[0.1111111111111111,\"#46039f\"],[0.2222222222222222,\"#7201a8\"],[0.3333333333333333,\"#9c179e\"],[0.4444444444444444,\"#bd3786\"],[0.5555555555555556,\"#d8576b\"],[0.6666666666666666,\"#ed7953\"],[0.7777777777777778,\"#fb9f3a\"],[0.8888888888888888,\"#fdca26\"],[1.0,\"#f0f921\"]]}],\"surface\":[{\"type\":\"surface\",\"colorbar\":{\"outlinewidth\":0,\"ticks\":\"\"},\"colorscale\":[[0.0,\"#0d0887\"],[0.1111111111111111,\"#46039f\"],[0.2222222222222222,\"#7201a8\"],[0.3333333333333333,\"#9c179e\"],[0.4444444444444444,\"#bd3786\"],[0.5555555555555556,\"#d8576b\"],[0.6666666666666666,\"#ed7953\"],[0.7777777777777778,\"#fb9f3a\"],[0.8888888888888888,\"#fdca26\"],[1.0,\"#f0f921\"]]}],\"mesh3d\":[{\"type\":\"mesh3d\",\"colorbar\":{\"outlinewidth\":0,\"ticks\":\"\"}}],\"scatter\":[{\"fillpattern\":{\"fillmode\":\"overlay\",\"size\":10,\"solidity\":0.2},\"type\":\"scatter\"}],\"parcoords\":[{\"type\":\"parcoords\",\"line\":{\"colorbar\":{\"outlinewidth\":0,\"ticks\":\"\"}}}],\"scatterpolargl\":[{\"type\":\"scatterpolargl\",\"marker\":{\"colorbar\":{\"outlinewidth\":0,\"ticks\":\"\"}}}],\"bar\":[{\"error_x\":{\"color\":\"#2a3f5f\"},\"error_y\":{\"color\":\"#2a3f5f\"},\"marker\":{\"line\":{\"color\":\"#E5ECF6\",\"width\":0.5},\"pattern\":{\"fillmode\":\"overlay\",\"size\":10,\"solidity\":0.2}},\"type\":\"bar\"}],\"scattergeo\":[{\"type\":\"scattergeo\",\"marker\":{\"colorbar\":{\"outlinewidth\":0,\"ticks\":\"\"}}}],\"scatterpolar\":[{\"type\":\"scatterpolar\",\"marker\":{\"colorbar\":{\"outlinewidth\":0,\"ticks\":\"\"}}}],\"histogram\":[{\"marker\":{\"pattern\":{\"fillmode\":\"overlay\",\"size\":10,\"solidity\":0.2}},\"type\":\"histogram\"}],\"scattergl\":[{\"type\":\"scattergl\",\"marker\":{\"colorbar\":{\"outlinewidth\":0,\"ticks\":\"\"}}}],\"scatter3d\":[{\"type\":\"scatter3d\",\"line\":{\"colorbar\":{\"outlinewidth\":0,\"ticks\":\"\"}},\"marker\":{\"colorbar\":{\"outlinewidth\":0,\"ticks\":\"\"}}}],\"scattermapbox\":[{\"type\":\"scattermapbox\",\"marker\":{\"colorbar\":{\"outlinewidth\":0,\"ticks\":\"\"}}}],\"scatterternary\":[{\"type\":\"scatterternary\",\"marker\":{\"colorbar\":{\"outlinewidth\":0,\"ticks\":\"\"}}}],\"scattercarpet\":[{\"type\":\"scattercarpet\",\"marker\":{\"colorbar\":{\"outlinewidth\":0,\"ticks\":\"\"}}}],\"carpet\":[{\"aaxis\":{\"endlinecolor\":\"#2a3f5f\",\"gridcolor\":\"white\",\"linecolor\":\"white\",\"minorgridcolor\":\"white\",\"startlinecolor\":\"#2a3f5f\"},\"baxis\":{\"endlinecolor\":\"#2a3f5f\",\"gridcolor\":\"white\",\"linecolor\":\"white\",\"minorgridcolor\":\"white\",\"startlinecolor\":\"#2a3f5f\"},\"type\":\"carpet\"}],\"table\":[{\"cells\":{\"fill\":{\"color\":\"#EBF0F8\"},\"line\":{\"color\":\"white\"}},\"header\":{\"fill\":{\"color\":\"#C8D4E3\"},\"line\":{\"color\":\"white\"}},\"type\":\"table\"}],\"barpolar\":[{\"marker\":{\"line\":{\"color\":\"#E5ECF6\",\"width\":0.5},\"pattern\":{\"fillmode\":\"overlay\",\"size\":10,\"solidity\":0.2}},\"type\":\"barpolar\"}],\"pie\":[{\"automargin\":true,\"type\":\"pie\"}]},\"layout\":{\"autotypenumbers\":\"strict\",\"colorway\":[\"#636efa\",\"#EF553B\",\"#00cc96\",\"#ab63fa\",\"#FFA15A\",\"#19d3f3\",\"#FF6692\",\"#B6E880\",\"#FF97FF\",\"#FECB52\"],\"font\":{\"color\":\"#2a3f5f\"},\"hovermode\":\"closest\",\"hoverlabel\":{\"align\":\"left\"},\"paper_bgcolor\":\"white\",\"plot_bgcolor\":\"#E5ECF6\",\"polar\":{\"bgcolor\":\"#E5ECF6\",\"angularaxis\":{\"gridcolor\":\"white\",\"linecolor\":\"white\",\"ticks\":\"\"},\"radialaxis\":{\"gridcolor\":\"white\",\"linecolor\":\"white\",\"ticks\":\"\"}},\"ternary\":{\"bgcolor\":\"#E5ECF6\",\"aaxis\":{\"gridcolor\":\"white\",\"linecolor\":\"white\",\"ticks\":\"\"},\"baxis\":{\"gridcolor\":\"white\",\"linecolor\":\"white\",\"ticks\":\"\"},\"caxis\":{\"gridcolor\":\"white\",\"linecolor\":\"white\",\"ticks\":\"\"}},\"coloraxis\":{\"colorbar\":{\"outlinewidth\":0,\"ticks\":\"\"}},\"colorscale\":{\"sequential\":[[0.0,\"#0d0887\"],[0.1111111111111111,\"#46039f\"],[0.2222222222222222,\"#7201a8\"],[0.3333333333333333,\"#9c179e\"],[0.4444444444444444,\"#bd3786\"],[0.5555555555555556,\"#d8576b\"],[0.6666666666666666,\"#ed7953\"],[0.7777777777777778,\"#fb9f3a\"],[0.8888888888888888,\"#fdca26\"],[1.0,\"#f0f921\"]],\"sequentialminus\":[[0.0,\"#0d0887\"],[0.1111111111111111,\"#46039f\"],[0.2222222222222222,\"#7201a8\"],[0.3333333333333333,\"#9c179e\"],[0.4444444444444444,\"#bd3786\"],[0.5555555555555556,\"#d8576b\"],[0.6666666666666666,\"#ed7953\"],[0.7777777777777778,\"#fb9f3a\"],[0.8888888888888888,\"#fdca26\"],[1.0,\"#f0f921\"]],\"diverging\":[[0,\"#8e0152\"],[0.1,\"#c51b7d\"],[0.2,\"#de77ae\"],[0.3,\"#f1b6da\"],[0.4,\"#fde0ef\"],[0.5,\"#f7f7f7\"],[0.6,\"#e6f5d0\"],[0.7,\"#b8e186\"],[0.8,\"#7fbc41\"],[0.9,\"#4d9221\"],[1,\"#276419\"]]},\"xaxis\":{\"gridcolor\":\"white\",\"linecolor\":\"white\",\"ticks\":\"\",\"title\":{\"standoff\":15},\"zerolinecolor\":\"white\",\"automargin\":true,\"zerolinewidth\":2},\"yaxis\":{\"gridcolor\":\"white\",\"linecolor\":\"white\",\"ticks\":\"\",\"title\":{\"standoff\":15},\"zerolinecolor\":\"white\",\"automargin\":true,\"zerolinewidth\":2},\"scene\":{\"xaxis\":{\"backgroundcolor\":\"#E5ECF6\",\"gridcolor\":\"white\",\"linecolor\":\"white\",\"showbackground\":true,\"ticks\":\"\",\"zerolinecolor\":\"white\",\"gridwidth\":2},\"yaxis\":{\"backgroundcolor\":\"#E5ECF6\",\"gridcolor\":\"white\",\"linecolor\":\"white\",\"showbackground\":true,\"ticks\":\"\",\"zerolinecolor\":\"white\",\"gridwidth\":2},\"zaxis\":{\"backgroundcolor\":\"#E5ECF6\",\"gridcolor\":\"white\",\"linecolor\":\"white\",\"showbackground\":true,\"ticks\":\"\",\"zerolinecolor\":\"white\",\"gridwidth\":2}},\"shapedefaults\":{\"line\":{\"color\":\"#2a3f5f\"}},\"annotationdefaults\":{\"arrowcolor\":\"#2a3f5f\",\"arrowhead\":0,\"arrowwidth\":1},\"geo\":{\"bgcolor\":\"white\",\"landcolor\":\"#E5ECF6\",\"subunitcolor\":\"white\",\"showland\":true,\"showlakes\":true,\"lakecolor\":\"white\"},\"title\":{\"x\":0.05},\"mapbox\":{\"style\":\"light\"}}}},                        {\"responsive\": true}                    ).then(function(){\n",
              "                            \n",
              "var gd = document.getElementById('641849be-6591-40cb-b453-f2afb21767ad');\n",
              "var x = new MutationObserver(function (mutations, observer) {{\n",
              "        var display = window.getComputedStyle(gd).display;\n",
              "        if (!display || display === 'none') {{\n",
              "            console.log([gd, 'removed!']);\n",
              "            Plotly.purge(gd);\n",
              "            observer.disconnect();\n",
              "        }}\n",
              "}});\n",
              "\n",
              "// Listen for the removal of the full notebook cells\n",
              "var notebookContainer = gd.closest('#notebook-container');\n",
              "if (notebookContainer) {{\n",
              "    x.observe(notebookContainer, {childList: true});\n",
              "}}\n",
              "\n",
              "// Listen for the clearing of the current output cell\n",
              "var outputEl = gd.closest('.output');\n",
              "if (outputEl) {{\n",
              "    x.observe(outputEl, {childList: true});\n",
              "}}\n",
              "\n",
              "                        })                };                            </script>        </div>\n",
              "</body>\n",
              "</html>"
            ]
          },
          "metadata": {}
        }
      ]
    }
  ]
}